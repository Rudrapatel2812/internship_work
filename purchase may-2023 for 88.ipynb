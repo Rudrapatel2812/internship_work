{
 "cells": [
  {
   "cell_type": "code",
   "execution_count": 21,
   "id": "2202c356",
   "metadata": {},
   "outputs": [],
   "source": [
    "import csv\n",
    "import json\n",
    "import pandas as pd\n",
    "from datetime import datetime\n",
    "\n",
    "vendorMaster = {}\n",
    "with open('/Users/patelrudra/Documents/BOOKS/VendorsMaster.csv', mode ='r')as file:\n",
    "    masterFile = csv.reader(file)    \n",
    "    for vendor in masterFile:\n",
    "        vendorMaster[vendor[1]] = vendor[0]\n",
    "        \n",
    "vendorItem = {}\n",
    "with open('/Users/patelrudra/Documents/BOOKS/Item.csv', mode ='r')as file1:\n",
    "    masterFile = csv.reader(file1)    \n",
    "    for vendor in masterFile:\n",
    "        vendorItem[vendor[1]] = vendor[0]\n",
    "        \n",
    "gstConfigurationData = {\n",
    "    \"0\" : \"1357403000000016427\",\n",
    "    \"5\" : \"1357403000000016433\",\n",
    "    \"12\" : \"1357403000000016439\",\n",
    "    \"18\" : \"1357403000000016445\",\n",
    "    \"28\" : \"1357403000000016451\"\n",
    "}\n",
    "        \n",
    "with open('/Users/patelrudra/Documents/MedKart/wms/Purchase May-2023.csv', mode ='r')as file:\n",
    "    csvFile = csv.reader(file)\n",
    "    data_list = []\n",
    "    null_voucher_dict = []\n",
    "    data={}\n",
    "    count=0\n",
    "    Bill=True\n",
    "    notItems=[]\n",
    "    str_line=['TAX6586', '23SZ011097', '23SZ011428', '23SZ011804', 'TAX7310', 'DSS2322634', 'DSS2322635', 'TAX7308', '23SZ012159', '23SZ012189', '24T010101', '23SZ012484', '23SZ012486', '23SZ002765', '23SZ013343', '24T010725', '24T011030', '23SZ014228', '23SZ208272', '111239', '111238', '111586', '111585', '111581', '111860', '111782', '111781', '111778', '111861', '112145', '112144', '112366', '112428', '112370', '112365', '23SZ014835', '112640', '112639', '23SZ209472', '23SZ209498', '23SZ209653', '23SZ209611', '112913', '112906', '23SZ015052', '112907', '112912', '113237', '113238', '113255', '113252', '113253', '113239', '23SZ015768', '23SZ015890', '113522', '113534', '113529', '113530', '113531', '113789', '23SZ016063', '113787', '113788', '113781', '113782', '114066', '114067', '114065', '114078', '114079', '23SZ016599', '114320', '114327', '114328', '114319', '114314', '114326', '114573', '114572', '114574', '114846', '114845', '24T015816', '115111', '115112', '115106', '115110']\n",
    "    \n",
    "    for entry in csvFile:\n",
    "        if entry[4] == '':\n",
    "            if entry[5] in str_line:\n",
    "                if entry[1] == 'Grand Total':\n",
    "                    continue;\n",
    "                data1 = {\n",
    "                    'item_id': vendorItem[entry[1]],\n",
    "                    'rate':entry[8],\n",
    "                    \"itc_eligibility\":\"eligible\",\n",
    "                    \"quantity\":\"1\",\n",
    "                    \"account_id\":\"1357403000000000567\",\n",
    "                    \"item_order\":len(data_list)+1,\n",
    "                    \"tax_id\" : gstConfigurationData[entry[1].split(\"_\")[1]]\n",
    "                 }\n",
    "\n",
    "                data_list.append(data1)\n",
    "        else:\n",
    "            if entry[5] in str_line:\n",
    "                data['line_items'] = data_list\n",
    "                null_voucher_dict.append(data)\n",
    "                data_list=[]\n",
    "                date_object = datetime.strptime(entry[0], \"%d-%b-%y\")\n",
    "                formatted_date = date_object.strftime(\"%Y-%m-%d\")\n",
    "                if entry[20]==\"\":\n",
    "                    entry[20]=0\n",
    "                if entry[16]==\"\":\n",
    "                    entry[16]=0\n",
    "\n",
    "                data = {\n",
    "                    'date': formatted_date,\n",
    "                    'vendor_id': vendorMaster[entry[1]],\n",
    "                    'supplier Name': entry[2],\n",
    "                    'bill_number': entry[5],\n",
    "                    'source_of_supply':\"24\",\n",
    "                    \"destination_of_supply\":\"24\",\n",
    "                    \"adjustment\" : float(entry[16])+float(entry[20])\n",
    "                 }\n",
    "            \n",
    "    for data in null_voucher_dict:\n",
    "        json_data = json.dumps(data, indent=4)\n",
    "        with open(\"sample.json\", \"a\") as outfile:\n",
    "            outfile.write(json_data + '\\n')  "
   ]
  },
  {
   "cell_type": "code",
   "execution_count": 22,
   "id": "7de62206",
   "metadata": {},
   "outputs": [
    {
     "data": {
      "text/plain": [
       "89"
      ]
     },
     "execution_count": 22,
     "metadata": {},
     "output_type": "execute_result"
    }
   ],
   "source": [
    "len(null_voucher_dict)"
   ]
  },
  {
   "cell_type": "code",
   "execution_count": 19,
   "id": "bd7aa021",
   "metadata": {},
   "outputs": [
    {
     "name": "stdout",
     "output_type": "stream",
     "text": [
      "API request failed with status code 400\n",
      "{\"code\":13011,\"message\":\"A bill with this number has already been created for this vendor. Please check and try again.\"}\n",
      "__________________________________\n",
      "Finished\n",
      "__________________________________\n",
      "failed records bill number : \n",
      "['23SZ012486']\n"
     ]
    }
   ],
   "source": [
    "import requests\n",
    "import json\n",
    "url = \"https://www.zohoapis.in/books/v3/bills?organization_id=60022053195\"\n",
    "headers = {\n",
    "  'Content-Type': 'application/json',\n",
    "  'Authorization': 'Zoho-oauthtoken 1000.a756c019439a696ac27f03d5c79dfdea.e669c43b75b82d513a89109ddcc231fc'\n",
    "}\n",
    "failedData = []\n",
    "for data in null_voucher_dict:\n",
    "    payload = json.dumps(data)\n",
    "\n",
    "\n",
    "    response = requests.request(\"POST\", url, headers=headers, data=payload)\n",
    "    if response.status_code >= 200 and response.status_code < 300:  # Assuming a successful response has a status code of 200\n",
    "        data = response.json()\n",
    "        # Process the response data as needed\n",
    "        # print(data)\n",
    "    else:\n",
    "\n",
    "        print(f\"API request failed with status code {response.status_code}\")\n",
    "        response_content = response.content.decode('utf-8')\n",
    "        failedData.append(data['bill_number'])\n",
    "        print(response_content)\n",
    "\n",
    "print(\"__________________________________\")\n",
    "print(\"Finished\")\n",
    "print(\"__________________________________\")\n",
    "print(\"failed records bill number : \")\n",
    "print(failedData)"
   ]
  },
  {
   "cell_type": "code",
   "execution_count": null,
   "id": "7cd259c8",
   "metadata": {},
   "outputs": [],
   "source": []
  }
 ],
 "metadata": {
  "kernelspec": {
   "display_name": "Python 3 (ipykernel)",
   "language": "python",
   "name": "python3"
  },
  "language_info": {
   "codemirror_mode": {
    "name": "ipython",
    "version": 3
   },
   "file_extension": ".py",
   "mimetype": "text/x-python",
   "name": "python",
   "nbconvert_exporter": "python",
   "pygments_lexer": "ipython3",
   "version": "3.10.9"
  }
 },
 "nbformat": 4,
 "nbformat_minor": 5
}
