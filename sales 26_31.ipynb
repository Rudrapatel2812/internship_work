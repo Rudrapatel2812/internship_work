{
 "cells": [
  {
   "cell_type": "code",
   "execution_count": 9,
   "id": "2c2433ba",
   "metadata": {},
   "outputs": [],
   "source": [
    "import csv\n",
    "import json\n",
    "import pandas as pd\n",
    "from datetime import datetime\n",
    "\n",
    "customerName = {}\n",
    "with open('/Users/patelrudra/Documents/Medkart/wms/Contacts.csv', mode ='r')as file:\n",
    "    masterFile = csv.reader(file)    \n",
    "    for vendor in masterFile:\n",
    "        customerName[vendor[1]] = vendor[0]\n",
    "        \n",
    "vendorItem = {}\n",
    "with open('/Users/patelrudra/Documents/BOOKS/Item.csv', mode ='r')as file1:\n",
    "    masterFile = csv.reader(file1)    \n",
    "    for vendor in masterFile:\n",
    "        vendorItem[vendor[1]] = vendor[0]\n",
    "        \n",
    "with open('/Users/patelrudra/Documents/Medkart/wms/sales26_31.csv', mode ='r')as file:\n",
    "\n",
    "    csvFile = csv.reader(file)\n",
    "    data_list = []\n",
    "    null_voucher_dict = []\n",
    "    data={}\n",
    "    count=0\n",
    "    Bill=True\n",
    "    notItems=[]\n",
    "    \n",
    "    for entry in csvFile:\n",
    "#         print(entry[4])\n",
    "        if entry[4] == '':\n",
    "            if entry[1] == 'Grand Total':\n",
    "                continue;\n",
    "            data1 = {\n",
    "                'item_id':vendorItem[entry[1]],\n",
    "                'rate':entry[7],\n",
    "                \"quantity\":\"1\",\n",
    "                \"item_order\":len(data_list)+1\n",
    "             }\n",
    "            data_list.append(data1)\n",
    "        else:\n",
    "            data['line_items'] = data_list\n",
    "            null_voucher_dict.append(data)\n",
    "            data_list=[]\n",
    "            date_object = datetime.strptime(entry[0],\"%d-%b-%y\")\n",
    "            formatted_date = date_object.strftime(\"%Y-%m-%d\")\n",
    "            replaced_num=entry[4].replace(\"_\",\"-\")\n",
    "            data = {\n",
    "                'date': formatted_date,\n",
    "                'customer_id': customerName[entry[1]],\n",
    "                'invoice_number': replaced_num,\n",
    "                'source_of_supply':\"24\",\n",
    "                 \"adjustment\" : entry[16],\n",
    "                \"is_inclusive_tax\": False,\n",
    "                \n",
    "             }\n",
    "    for data in null_voucher_dict:\n",
    "        json_data = json.dumps(data, indent=4)\n",
    "        with open(\"sales6_15.json\", \"a\") as outfile:\n",
    "            outfile.write(json_data + '\\n')  \n"
   ]
  },
  {
   "cell_type": "code",
   "execution_count": 10,
   "id": "64f3faef",
   "metadata": {},
   "outputs": [
    {
     "data": {
      "text/plain": [
       "1377"
      ]
     },
     "execution_count": 10,
     "metadata": {},
     "output_type": "execute_result"
    }
   ],
   "source": [
    "null_voucher_dict.pop(0)\n",
    "len(null_voucher_dict)"
   ]
  },
  {
   "cell_type": "code",
   "execution_count": 8,
   "id": "367ea9fb",
   "metadata": {},
   "outputs": [
    {
     "name": "stdout",
     "output_type": "stream",
     "text": [
      "__________________________________\n",
      "Finished\n",
      "__________________________________\n",
      "failed records bill number : \n",
      "[]\n"
     ]
    }
   ],
   "source": [
    "import requests\n",
    "import json\n",
    "url = \"https://www.zohoapis.in/books/v3/invoices?ignore_auto_number_generation=true&organization_id=60022053195\"\n",
    "headers = {\n",
    "  'Content-Type': 'application/json',\n",
    "  'Authorization': 'Zoho-oauthtoken 1000.38fca0b17f625ca209cfc90531bab513.eec54ef4053d5600d0dfa9912d0fcf99'\n",
    "}\n",
    "failedData = []\n",
    "for data in null_voucher_dict:\n",
    "    payload = json.dumps(data)\n",
    "\n",
    "    response = requests.request(\"POST\", url, headers=headers, data=payload)\n",
    "    if response.status_code >= 200 and response.status_code < 300:  # Assuming a successful response has a status code of 200\n",
    "        data = response.json()\n",
    "#         invoiceID = data['invoice']['invoice_id']\n",
    "#         response = requests.request(\"POST\", f\"https://www.zohoapis.in/books/v3/invoices/{invoiceID}/status/sent?organization_id=60021182160\", headers=headers, data=[])\n",
    "    else:\n",
    "\n",
    "        print(f\"API request failed with status code {response.status_code}\")\n",
    "        response_content = response.content.decode('utf-8')\n",
    "        failedData.append(data['invoice_number'])\n",
    "        print(response_content)\n",
    "\n",
    "print(\"__________________________________\")\n",
    "print(\"Finished\")\n",
    "print(\"__________________________________\")\n",
    "print(\"failed records bill number : \")\n",
    "print(failedData) "
   ]
  },
  {
   "cell_type": "code",
   "execution_count": null,
   "id": "c84b2b03",
   "metadata": {},
   "outputs": [],
   "source": []
  }
 ],
 "metadata": {
  "kernelspec": {
   "display_name": "Python 3 (ipykernel)",
   "language": "python",
   "name": "python3"
  },
  "language_info": {
   "codemirror_mode": {
    "name": "ipython",
    "version": 3
   },
   "file_extension": ".py",
   "mimetype": "text/x-python",
   "name": "python",
   "nbconvert_exporter": "python",
   "pygments_lexer": "ipython3",
   "version": "3.10.9"
  }
 },
 "nbformat": 4,
 "nbformat_minor": 5
}
